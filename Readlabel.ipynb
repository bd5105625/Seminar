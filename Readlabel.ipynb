{
 "cells": [
  {
   "cell_type": "code",
   "execution_count": 197,
   "metadata": {},
   "outputs": [],
   "source": [
    "import cv2\n",
    "import numpy as np\n",
    "import json\n",
    "from labelme import utils\n",
    "from matplotlib import pyplot as plt"
   ]
  },
  {
   "cell_type": "code",
   "execution_count": 36,
   "metadata": {},
   "outputs": [],
   "source": [
    "def generate_label_png(json_file_path):\n",
    "    print('generate_label_png'+json_file_path)\n",
    "    data = json.load(open(json_file_path))\n",
    "    #imageData = data['imageData']\n",
    "    #img = utils.img_b64_to_arr(imageData)\n",
    "    label_name_to_value = {'_background_': 0}\n",
    "    for shape in data['shapes']:\n",
    "        label_name = shape['label']\n",
    "        if label_name in label_name_to_value:\n",
    "            label_value = label_name_to_value[label_name]\n",
    "        else:\n",
    "            label_value = len(label_name_to_value)\n",
    "            label_name_to_value[label_name] = label_value\n",
    "    label_values, label_names = [], []\n",
    "    for ln, lv in sorted(label_name_to_value.items(), key=lambda x: x[1]):\n",
    "        label_values.append(lv)\n",
    "        label_names.append(ln)\n",
    "    print(label_names)\n",
    "    assert label_values == list(range(len(label_values)))\n",
    "    label_only = utils.shapes_to_label((512,512), data['shapes'], label_name_to_value).astype('uint8')\n",
    "    #有多種標籤的話會生成不同顏色\n",
    "    #就像最大連通區域\n",
    "    #屬於第一種標籤的部分 塗上就會標為1\n",
    "    #屬於第二種標籤的部分 塗上就會標為2\n",
    "    #背景就會標成 0 \n",
    "    #但是我現在想把它變成同一張 所以大於等於1的部分都會標成1\n",
    "    #label_only[label_only>=1]=1\n",
    "    if label_only.shape != (512,512):\n",
    "        print('no 512!')\n",
    "        label_only = cv2.resize(label_only,(512,512))\n",
    "    filename = data['imagePath']\n",
    "    return label_only,filename,label_names"
   ]
  },
  {
   "cell_type": "code",
   "execution_count": 232,
   "metadata": {
    "scrolled": true
   },
   "outputs": [],
   "source": [
    "def label_to_mask(json_file_path):\n",
    "    data = json.load(open(json_file_path))\n",
    "    label_name_to_value = {'_background_': 0}\n",
    "    for shape in data['shapes']:\n",
    "        label_name = shape['label']\n",
    "        if label_name in label_name_to_value:\n",
    "            label_value = label_name_to_value[label_name]\n",
    "        else:\n",
    "            label_value = len(label_name_to_value)\n",
    "            label_name_to_value[label_name] = label_value\n",
    "    label_values, label_names = [], []\n",
    "    for ln, lv in sorted(label_name_to_value.items(), key=lambda x: x[1]):\n",
    "        label_values.append(lv)\n",
    "        label_names.append(ln)\n",
    "    assert label_values == list(range(len(label_values)))\n",
    "    label_only = utils.shapes_to_label((512,512), data['shapes'], label_name_to_value)#.astype('uint8')#convert to unsigned integer\n",
    "    label_only = list(label_only)\n",
    "    for item in label_only:\n",
    "        item = item.astype('uint8')\n",
    "    # #有多種標籤的話會生成不同顏色\n",
    "    # #就像最大連通區域\n",
    "    # #屬於第一種標籤的部分 塗上就會標為1\n",
    "    # #屬於第二種標籤的部分 塗上就會標為2\n",
    "    # #背景就會標成 0 \n",
    "    # #但是我現在想把它變成同一張 所以大於等於1的部分都會標成1\n",
    "    for item in label_only:\n",
    "        item[item>=1] = 1\n",
    "        item = cv2.resize(item,(512,512))\n",
    "    filename = data['imagePath']\n",
    "    img = np.zeros([512,512])\n",
    "    for i in range(0,512):\n",
    "        for j in range(0,512):\n",
    "#             if label_\n",
    "    return filename , label_only"
   ]
  },
  {
   "cell_type": "code",
   "execution_count": 233,
   "metadata": {},
   "outputs": [
    {
     "name": "stdout",
     "output_type": "stream",
     "text": [
      "[[0 0 0 ... 0 0 0]\n",
      " [0 0 0 ... 0 0 0]\n",
      " [0 0 0 ... 0 0 0]\n",
      " ...\n",
      " [0 0 0 ... 0 0 0]\n",
      " [0 0 0 ... 0 0 0]\n",
      " [0 0 0 ... 0 0 0]]\n",
      "[[0 0 0 ... 0 0 0]\n",
      " [0 0 0 ... 0 0 0]\n",
      " [0 0 0 ... 0 0 0]\n",
      " ...\n",
      " [0 0 0 ... 0 0 0]\n",
      " [0 0 0 ... 0 0 0]\n",
      " [0 0 0 ... 0 0 0]]\n"
     ]
    },
    {
     "data": {
      "text/plain": [
       "<matplotlib.image.AxesImage at 0x271a2284748>"
      ]
     },
     "execution_count": 233,
     "metadata": {},
     "output_type": "execute_result"
    },
    {
     "data": {
      "image/png": "[encoded data removed]",
      "text/plain": [
       "<Figure size 432x288 with 1 Axes>"
      ]
     },
     "metadata": {
      "needs_background": "light"
     },
     "output_type": "display_data"
    }
   ],
   "source": [
    "filename , label = label_to_mask(\"second.json\")\n",
    "img = np.zeros([512,512])\n",
    "for item in label:\n",
    "    print(item)\n",
    "    for i in range(0,512):\n",
    "        for j in range(0,512):\n",
    "            if item[i,j] != 0:\n",
    "                img[i,j] = 255\n",
    "# # img[10:1:100] == 255\n",
    "plt.imshow(img , 'gray')\n",
    "# cv2.imwrite(\"test.jpg\" , img)"
   ]
  },
  {
   "cell_type": "code",
   "execution_count": 174,
   "metadata": {},
   "outputs": [
    {
     "name": "stdout",
     "output_type": "stream",
     "text": [
      "[[0. 0. 0. 0. 0.]\n",
      " [0. 0. 0. 0. 0.]\n",
      " [0. 0. 0. 2. 0.]\n",
      " [0. 0. 3. 0. 0.]\n",
      " [0. 0. 0. 0. 0.]]\n",
      "[[0. 0. 0. 0. 0.]\n",
      " [0. 0. 0. 0. 0.]\n",
      " [0. 0. 0. 1. 0.]\n",
      " [0. 0. 1. 0. 0.]\n",
      " [0. 0. 0. 0. 0.]]\n"
     ]
    }
   ],
   "source": [
    "jpg = cv2.imread(\"CT-7358-0001.jpg\" , 0)\n",
    "# img = cv2.imread(path+\"94/lung_mask/JPG/lung_mask_7370_22.jpg\",0)\n",
    "img = cv2.imread(\"test.jpg\" , 0)\n",
    "plt.subplot(2,1,1),plt.imshow(img,'gray')\n",
    "plt.subplot(2,1,2),plt.imshow(jpg,'gray')\n",
    "for i in range(0,512):\n",
    "    for j in range(0,512):\n",
    "        if img[i,j] <= 127:\n",
    "            jpg[i,j] = 0\n",
    "plt.imshow(jpg,'gray')\n",
    "cv2.imwrite(\"result.jpg\" , jpg)"
   ]
  },
  {
   "cell_type": "code",
   "execution_count": null,
   "metadata": {},
   "outputs": [],
   "source": []
  }
 ],
 "metadata": {
  "kernelspec": {
   "display_name": "Python 3",
   "language": "python",
   "name": "python3"
  },
  "language_info": {
   "codemirror_mode": {
    "name": "ipython",
    "version": 3
   },
   "file_extension": ".py",
   "mimetype": "text/x-python",
   "name": "python",
   "nbconvert_exporter": "python",
   "pygments_lexer": "ipython3",
   "version": "3.7.6"
  }
 },
 "nbformat": 4,
 "nbformat_minor": 4
}
